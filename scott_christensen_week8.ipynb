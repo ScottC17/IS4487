{
  "nbformat": 4,
  "nbformat_minor": 0,
  "metadata": {
    "colab": {
      "provenance": [],
      "authorship_tag": "ABX9TyMSfxO+AH56yasW+tNBMQ0P",
      "include_colab_link": true
    },
    "kernelspec": {
      "name": "python3",
      "display_name": "Python 3"
    },
    "language_info": {
      "name": "python"
    }
  },
  "cells": [
    {
      "cell_type": "markdown",
      "metadata": {
        "id": "view-in-github",
        "colab_type": "text"
      },
      "source": [
        "<a href=\"https://colab.research.google.com/github/ScottC17/IS4487/blob/main/scott_christensen_week8.ipynb\" target=\"_parent\"><img src=\"https://colab.research.google.com/assets/colab-badge.svg\" alt=\"Open In Colab\"/></a>"
      ]
    },
    {
      "cell_type": "markdown",
      "source": [
        "Scott Christensen\n",
        "\n",
        "Week 8"
      ],
      "metadata": {
        "id": "xjJtGfsb1W3v"
      }
    },
    {
      "cell_type": "code",
      "execution_count": 9,
      "metadata": {
        "id": "1nrkhmnTxD5w"
      },
      "outputs": [],
      "source": [
        "import pandas as pd\n",
        "import matplotlib.pyplot as mpl\n",
        "import sklearn as sl"
      ]
    },
    {
      "cell_type": "code",
      "source": [
        "from google.colab import drive \n",
        "drive.mount('/content/gdrive', force_remount=True)\n",
        "\n",
        "df = pd.read_csv (r'/content/gdrive/MyDrive/Colab_Notebooks/retail_dataset.csv')\n",
        "\n",
        "print (df)"
      ],
      "metadata": {
        "colab": {
          "base_uri": "https://localhost:8080/"
        },
        "id": "ExbqCt_6xJCo",
        "outputId": "836247dd-c449-4485-da2d-f54a872f517c"
      },
      "execution_count": 2,
      "outputs": [
        {
          "output_type": "stream",
          "name": "stdout",
          "text": [
            "Mounted at /content/gdrive\n",
            "      customer_id      customer_name          address_line_1          city  \\\n",
            "0              67      Gordy Matteau     59 Northland Circle    Wilmington   \n",
            "1             201     Cort Paskerful         769 Buell Drive    Huntsville   \n",
            "2              45    Willetta Lumley       41 Ridgeway Alley        Irvine   \n",
            "3             106   Alison Batterton           489 Erie Hill      Richmond   \n",
            "4             357  Martelle Paxeford    451 Manitowish Place      Richmond   \n",
            "...           ...                ...                     ...           ...   \n",
            "9564          637  Jayson Andriessen  0819 Crownhardt Circle     Allentown   \n",
            "9565          370    Darby Tesseyman     7468 Jackson Circle        Albany   \n",
            "9566          598   Henka De Ferrari      89 Sunnyside Drive  Redwood City   \n",
            "9567          737    Tommie Penvarne    9630 Washington Hill     Watertown   \n",
            "9568          482       Matelda Bull      6406 Bultman Alley  Gaithersburg   \n",
            "\n",
            "                 state_province  postal_code  order_id  order_date  \\\n",
            "0     DE                             19805.0      1001  2020-01-11   \n",
            "1     AL                             35810.0      1002  2019-11-22   \n",
            "2     CA                             92612.0      1003  2019-09-17   \n",
            "3     VA                             23293.0      1004  2019-12-09   \n",
            "4     VA                             23293.0      1005  2019-06-08   \n",
            "...                         ...          ...       ...         ...   \n",
            "9564  Pennsylvania                       NaN      8143  2021-06-13   \n",
            "9565  NY                             12210.0      8144  2021-06-16   \n",
            "9566  California                     94064.0      8145  2021-05-09   \n",
            "9567  Massachusetts                   2472.0      8146  2021-04-13   \n",
            "9568  Maryland                       20883.0      8147  2021-03-21   \n",
            "\n",
            "      customer_id.1  order_id.1  product_id  quantity  product_id.1  \\\n",
            "0                67        1001         106       3.0           106   \n",
            "1               201        1002         104       2.0           104   \n",
            "2                45        1003         107       5.0           107   \n",
            "3               106        1004         106       8.0           106   \n",
            "4               357        1005         107       7.0           107   \n",
            "...             ...         ...         ...       ...           ...   \n",
            "9564            637        8143         113      16.0           113   \n",
            "9565            370        8144         109       1.0           109   \n",
            "9566            598        8145         110       1.0           110   \n",
            "9567            737        8146         113       2.0           113   \n",
            "9568            482        8147         113       5.0           113   \n",
            "\n",
            "                product_name product_price total_amount order_year_month  \\\n",
            "0          Great value Juice         $1.99        $5.97          2020-01   \n",
            "1                       Desk        $85.98      $171.96          2019-11   \n",
            "2             Dove deodorant         $3.99       $19.95          2019-09   \n",
            "3          Great value Juice         $1.99       $15.92          2019-12   \n",
            "4             Dove deodorant         $3.99       $27.93          2019-06   \n",
            "...                      ...           ...          ...              ...   \n",
            "9564          Extension cord        $15.59      $249.44          2021-06   \n",
            "9565  Samsung Galaxy Note 10       $749.99      $749.99          2021-06   \n",
            "9566         Apple iPad Mini       $329.99      $329.99          2021-05   \n",
            "9567          Extension cord        $15.59       $31.18          2021-04   \n",
            "9568          Extension cord        $15.59       $77.95          2021-03   \n",
            "\n",
            "     order_month  \n",
            "0      January    \n",
            "1      November   \n",
            "2      September  \n",
            "3      December   \n",
            "4      June       \n",
            "...          ...  \n",
            "9564   June       \n",
            "9565   June       \n",
            "9566   May        \n",
            "9567   April      \n",
            "9568   March      \n",
            "\n",
            "[9569 rows x 18 columns]\n"
          ]
        }
      ]
    },
    {
      "cell_type": "markdown",
      "source": [
        "Which attributes have empty/null values?"
      ],
      "metadata": {
        "id": "J7AT84FAxZmR"
      }
    },
    {
      "cell_type": "code",
      "source": [
        "# Check for null or empty values in each column\n",
        "null_columns = df.columns[df.isnull().any()]\n",
        "empty_columns = [col for col in df.columns if df[col].empty]\n",
        "\n",
        "# Print the list of columns with null or empty values\n",
        "print(\"Columns with null values:\", null_columns)\n",
        "print(\"Columns with empty values:\", empty_columns)\n"
      ],
      "metadata": {
        "colab": {
          "base_uri": "https://localhost:8080/"
        },
        "id": "TMRyyc7ZxVfU",
        "outputId": "f55ac951-8f29-4ad0-98d0-70f27b582074"
      },
      "execution_count": 3,
      "outputs": [
        {
          "output_type": "stream",
          "name": "stdout",
          "text": [
            "Columns with null values: Index(['address_line_1', 'city', 'postal_code', 'order_date', 'quantity',\n",
            "       'total_amount', 'order_year_month', 'order_month'],\n",
            "      dtype='object')\n",
            "Columns with empty values: []\n"
          ]
        }
      ]
    },
    {
      "cell_type": "markdown",
      "source": [
        "Drop rows with null values to clean data"
      ],
      "metadata": {
        "id": "kOrL9EuSxtPO"
      }
    },
    {
      "cell_type": "code",
      "source": [
        "# Drop rows with null values\n",
        "df = df.dropna()\n",
        "\n",
        "# Drop columns with null values\n",
        "df = df.dropna(axis=1)\n"
      ],
      "metadata": {
        "id": "K26iPyBzxsjh"
      },
      "execution_count": 4,
      "outputs": []
    },
    {
      "cell_type": "markdown",
      "source": [
        "Plot the total number of orders and revenue by state."
      ],
      "metadata": {
        "id": "eOt5T5WNyYpx"
      }
    },
    {
      "cell_type": "code",
      "source": [
        "df.info()"
      ],
      "metadata": {
        "colab": {
          "base_uri": "https://localhost:8080/"
        },
        "id": "ctyhuTYnyhA3",
        "outputId": "2e727aa0-2c0d-4b4f-8cf1-dd5a937c5e49"
      },
      "execution_count": 6,
      "outputs": [
        {
          "output_type": "stream",
          "name": "stdout",
          "text": [
            "<class 'pandas.core.frame.DataFrame'>\n",
            "Int64Index: 8981 entries, 0 to 9568\n",
            "Data columns (total 18 columns):\n",
            " #   Column            Non-Null Count  Dtype  \n",
            "---  ------            --------------  -----  \n",
            " 0   customer_id       8981 non-null   int64  \n",
            " 1   customer_name     8981 non-null   object \n",
            " 2   address_line_1    8981 non-null   object \n",
            " 3   city              8981 non-null   object \n",
            " 4   state_province    8981 non-null   object \n",
            " 5   postal_code       8981 non-null   float64\n",
            " 6   order_id          8981 non-null   int64  \n",
            " 7   order_date        8981 non-null   object \n",
            " 8   customer_id.1     8981 non-null   int64  \n",
            " 9   order_id.1        8981 non-null   int64  \n",
            " 10  product_id        8981 non-null   int64  \n",
            " 11  quantity          8981 non-null   float64\n",
            " 12  product_id.1      8981 non-null   int64  \n",
            " 13  product_name      8981 non-null   object \n",
            " 14  product_price     8981 non-null   object \n",
            " 15  total_amount      8981 non-null   object \n",
            " 16  order_year_month  8981 non-null   object \n",
            " 17  order_month       8981 non-null   object \n",
            "dtypes: float64(2), int64(6), object(10)\n",
            "memory usage: 1.3+ MB\n"
          ]
        }
      ]
    },
    {
      "cell_type": "code",
      "source": [
        "grouped = df.groupby('state_province').agg({'quantity': 'sum', 'total_amount': 'sum'})\n",
        "\n",
        "# Create a bar chart of the total number of orders by state\n",
        "grouped['quantity'].plot(kind='bar', color='blue')\n",
        "mpl.title('Total Number of Orders by State')\n",
        "mpl.xlabel('State')\n",
        "mpl.ylabel('Number of Orders')\n",
        "mpl.show()\n",
        "\n",
        "# Create a bar chart of the total revenue by state\n",
        "grouped['total_amount'].plot(kind='bar', color='green')\n",
        "mpl.title('Total Revenue by State')\n",
        "mpl.xlabel('State')\n",
        "mpl.ylabel('Revenue')\n",
        "mpl.show()"
      ],
      "metadata": {
        "colab": {
          "base_uri": "https://localhost:8080/",
          "height": 772
        },
        "id": "StAjhYK1yyVg",
        "outputId": "d7d360ba-0318-48e3-d8b4-f301dc9fe97b"
      },
      "execution_count": 11,
      "outputs": [
        {
          "output_type": "display_data",
          "data": {
            "text/plain": [
              "<Figure size 432x288 with 1 Axes>"
            ],
            "image/png": "[encoded data removed]"
          },
          "metadata": {
            "needs_background": "light"
          }
        },
        {
          "output_type": "error",
          "ename": "TypeError",
          "evalue": "ignored",
          "traceback": [
            "\u001b[0;31m---------------------------------------------------------------------------\u001b[0m",
            "\u001b[0;31mTypeError\u001b[0m                                 Traceback (most recent call last)",
            "\u001b[0;32m<ipython-input-11-93f6f04d01be>\u001b[0m in \u001b[0;36m<module>\u001b[0;34m\u001b[0m\n\u001b[1;32m      9\u001b[0m \u001b[0;34m\u001b[0m\u001b[0m\n\u001b[1;32m     10\u001b[0m \u001b[0;31m# Create a bar chart of the total revenue by state\u001b[0m\u001b[0;34m\u001b[0m\u001b[0;34m\u001b[0m\u001b[0;34m\u001b[0m\u001b[0m\n\u001b[0;32m---> 11\u001b[0;31m \u001b[0mgrouped\u001b[0m\u001b[0;34m[\u001b[0m\u001b[0;34m'total_amount'\u001b[0m\u001b[0;34m]\u001b[0m\u001b[0;34m.\u001b[0m\u001b[0mplot\u001b[0m\u001b[0;34m(\u001b[0m\u001b[0mkind\u001b[0m\u001b[0;34m=\u001b[0m\u001b[0;34m'bar'\u001b[0m\u001b[0;34m,\u001b[0m \u001b[0mcolor\u001b[0m\u001b[0;34m=\u001b[0m\u001b[0;34m'green'\u001b[0m\u001b[0;34m)\u001b[0m\u001b[0;34m\u001b[0m\u001b[0;34m\u001b[0m\u001b[0m\n\u001b[0m\u001b[1;32m     12\u001b[0m \u001b[0mmpl\u001b[0m\u001b[0;34m.\u001b[0m\u001b[0mtitle\u001b[0m\u001b[0;34m(\u001b[0m\u001b[0;34m'Total Revenue by State'\u001b[0m\u001b[0;34m)\u001b[0m\u001b[0;34m\u001b[0m\u001b[0;34m\u001b[0m\u001b[0m\n\u001b[1;32m     13\u001b[0m \u001b[0mmpl\u001b[0m\u001b[0;34m.\u001b[0m\u001b[0mxlabel\u001b[0m\u001b[0;34m(\u001b[0m\u001b[0;34m'State'\u001b[0m\u001b[0;34m)\u001b[0m\u001b[0;34m\u001b[0m\u001b[0;34m\u001b[0m\u001b[0m\n",
            "\u001b[0;32m/usr/local/lib/python3.8/dist-packages/pandas/plotting/_core.py\u001b[0m in \u001b[0;36m__call__\u001b[0;34m(self, *args, **kwargs)\u001b[0m\n\u001b[1;32m    970\u001b[0m                     \u001b[0mdata\u001b[0m\u001b[0;34m.\u001b[0m\u001b[0mcolumns\u001b[0m \u001b[0;34m=\u001b[0m \u001b[0mlabel_name\u001b[0m\u001b[0;34m\u001b[0m\u001b[0;34m\u001b[0m\u001b[0m\n\u001b[1;32m    971\u001b[0m \u001b[0;34m\u001b[0m\u001b[0m\n\u001b[0;32m--> 972\u001b[0;31m         \u001b[0;32mreturn\u001b[0m \u001b[0mplot_backend\u001b[0m\u001b[0;34m.\u001b[0m\u001b[0mplot\u001b[0m\u001b[0;34m(\u001b[0m\u001b[0mdata\u001b[0m\u001b[0;34m,\u001b[0m \u001b[0mkind\u001b[0m\u001b[0;34m=\u001b[0m\u001b[0mkind\u001b[0m\u001b[0;34m,\u001b[0m \u001b[0;34m**\u001b[0m\u001b[0mkwargs\u001b[0m\u001b[0;34m)\u001b[0m\u001b[0;34m\u001b[0m\u001b[0;34m\u001b[0m\u001b[0m\n\u001b[0m\u001b[1;32m    973\u001b[0m \u001b[0;34m\u001b[0m\u001b[0m\n\u001b[1;32m    974\u001b[0m     \u001b[0m__call__\u001b[0m\u001b[0;34m.\u001b[0m\u001b[0m__doc__\u001b[0m \u001b[0;34m=\u001b[0m \u001b[0m__doc__\u001b[0m\u001b[0;34m\u001b[0m\u001b[0;34m\u001b[0m\u001b[0m\n",
            "\u001b[0;32m/usr/local/lib/python3.8/dist-packages/pandas/plotting/_matplotlib/__init__.py\u001b[0m in \u001b[0;36mplot\u001b[0;34m(data, kind, **kwargs)\u001b[0m\n\u001b[1;32m     69\u001b[0m             \u001b[0mkwargs\u001b[0m\u001b[0;34m[\u001b[0m\u001b[0;34m\"ax\"\u001b[0m\u001b[0;34m]\u001b[0m \u001b[0;34m=\u001b[0m \u001b[0mgetattr\u001b[0m\u001b[0;34m(\u001b[0m\u001b[0max\u001b[0m\u001b[0;34m,\u001b[0m \u001b[0;34m\"left_ax\"\u001b[0m\u001b[0;34m,\u001b[0m \u001b[0max\u001b[0m\u001b[0;34m)\u001b[0m\u001b[0;34m\u001b[0m\u001b[0;34m\u001b[0m\u001b[0m\n\u001b[1;32m     70\u001b[0m     \u001b[0mplot_obj\u001b[0m \u001b[0;34m=\u001b[0m \u001b[0mPLOT_CLASSES\u001b[0m\u001b[0;34m[\u001b[0m\u001b[0mkind\u001b[0m\u001b[0;34m]\u001b[0m\u001b[0;34m(\u001b[0m\u001b[0mdata\u001b[0m\u001b[0;34m,\u001b[0m \u001b[0;34m**\u001b[0m\u001b[0mkwargs\u001b[0m\u001b[0;34m)\u001b[0m\u001b[0;34m\u001b[0m\u001b[0;34m\u001b[0m\u001b[0m\n\u001b[0;32m---> 71\u001b[0;31m     \u001b[0mplot_obj\u001b[0m\u001b[0;34m.\u001b[0m\u001b[0mgenerate\u001b[0m\u001b[0;34m(\u001b[0m\u001b[0;34m)\u001b[0m\u001b[0;34m\u001b[0m\u001b[0;34m\u001b[0m\u001b[0m\n\u001b[0m\u001b[1;32m     72\u001b[0m     \u001b[0mplot_obj\u001b[0m\u001b[0;34m.\u001b[0m\u001b[0mdraw\u001b[0m\u001b[0;34m(\u001b[0m\u001b[0;34m)\u001b[0m\u001b[0;34m\u001b[0m\u001b[0;34m\u001b[0m\u001b[0m\n\u001b[1;32m     73\u001b[0m     \u001b[0;32mreturn\u001b[0m \u001b[0mplot_obj\u001b[0m\u001b[0;34m.\u001b[0m\u001b[0mresult\u001b[0m\u001b[0;34m\u001b[0m\u001b[0;34m\u001b[0m\u001b[0m\n",
            "\u001b[0;32m/usr/local/lib/python3.8/dist-packages/pandas/plotting/_matplotlib/core.py\u001b[0m in \u001b[0;36mgenerate\u001b[0;34m(self)\u001b[0m\n\u001b[1;32m    284\u001b[0m     \u001b[0;32mdef\u001b[0m \u001b[0mgenerate\u001b[0m\u001b[0;34m(\u001b[0m\u001b[0mself\u001b[0m\u001b[0;34m)\u001b[0m\u001b[0;34m:\u001b[0m\u001b[0;34m\u001b[0m\u001b[0;34m\u001b[0m\u001b[0m\n\u001b[1;32m    285\u001b[0m         \u001b[0mself\u001b[0m\u001b[0;34m.\u001b[0m\u001b[0m_args_adjust\u001b[0m\u001b[0;34m(\u001b[0m\u001b[0;34m)\u001b[0m\u001b[0;34m\u001b[0m\u001b[0;34m\u001b[0m\u001b[0m\n\u001b[0;32m--> 286\u001b[0;31m         \u001b[0mself\u001b[0m\u001b[0;34m.\u001b[0m\u001b[0m_compute_plot_data\u001b[0m\u001b[0;34m(\u001b[0m\u001b[0;34m)\u001b[0m\u001b[0;34m\u001b[0m\u001b[0;34m\u001b[0m\u001b[0m\n\u001b[0m\u001b[1;32m    287\u001b[0m         \u001b[0mself\u001b[0m\u001b[0;34m.\u001b[0m\u001b[0m_setup_subplots\u001b[0m\u001b[0;34m(\u001b[0m\u001b[0;34m)\u001b[0m\u001b[0;34m\u001b[0m\u001b[0;34m\u001b[0m\u001b[0m\n\u001b[1;32m    288\u001b[0m         \u001b[0mself\u001b[0m\u001b[0;34m.\u001b[0m\u001b[0m_make_plot\u001b[0m\u001b[0;34m(\u001b[0m\u001b[0;34m)\u001b[0m\u001b[0;34m\u001b[0m\u001b[0;34m\u001b[0m\u001b[0m\n",
            "\u001b[0;32m/usr/local/lib/python3.8/dist-packages/pandas/plotting/_matplotlib/core.py\u001b[0m in \u001b[0;36m_compute_plot_data\u001b[0;34m(self)\u001b[0m\n\u001b[1;32m    451\u001b[0m         \u001b[0;31m# no non-numeric frames or series allowed\u001b[0m\u001b[0;34m\u001b[0m\u001b[0;34m\u001b[0m\u001b[0;34m\u001b[0m\u001b[0m\n\u001b[1;32m    452\u001b[0m         \u001b[0;32mif\u001b[0m \u001b[0mis_empty\u001b[0m\u001b[0;34m:\u001b[0m\u001b[0;34m\u001b[0m\u001b[0;34m\u001b[0m\u001b[0m\n\u001b[0;32m--> 453\u001b[0;31m             \u001b[0;32mraise\u001b[0m \u001b[0mTypeError\u001b[0m\u001b[0;34m(\u001b[0m\u001b[0;34m\"no numeric data to plot\"\u001b[0m\u001b[0;34m)\u001b[0m\u001b[0;34m\u001b[0m\u001b[0;34m\u001b[0m\u001b[0m\n\u001b[0m\u001b[1;32m    454\u001b[0m \u001b[0;34m\u001b[0m\u001b[0m\n\u001b[1;32m    455\u001b[0m         \u001b[0mself\u001b[0m\u001b[0;34m.\u001b[0m\u001b[0mdata\u001b[0m \u001b[0;34m=\u001b[0m \u001b[0mnumeric_data\u001b[0m\u001b[0;34m.\u001b[0m\u001b[0mapply\u001b[0m\u001b[0;34m(\u001b[0m\u001b[0mself\u001b[0m\u001b[0;34m.\u001b[0m\u001b[0m_convert_to_ndarray\u001b[0m\u001b[0;34m)\u001b[0m\u001b[0;34m\u001b[0m\u001b[0;34m\u001b[0m\u001b[0m\n",
            "\u001b[0;31mTypeError\u001b[0m: no numeric data to plot"
          ]
        }
      ]
    },
    {
      "cell_type": "markdown",
      "source": [
        "Complete addresses"
      ],
      "metadata": {
        "id": "09PDpJFs0MtQ"
      }
    },
    {
      "cell_type": "code",
      "source": [
        "#check for non-null values in address_line_1, city, state_province, and postal_code\n",
        "mask = df['address_line_1'].notnull() & df['city'].notnull() & df['state_province'].notnull() & df['postal_code'].notnull()\n",
        "\n",
        "#filter out rows that have null values in any columns\n",
        "filtered_df = df[mask]\n",
        "\n",
        "# Count\n",
        "count = filtered_df.shape[0]\n",
        "\n",
        "# Print the count\n",
        "print(\"Count of full addresses is: \", count)\n"
      ],
      "metadata": {
        "colab": {
          "base_uri": "https://localhost:8080/"
        },
        "id": "4IwVTPnX0OMm",
        "outputId": "dc6c67c6-274a-4c83-c7e4-438c365a557a"
      },
      "execution_count": 12,
      "outputs": [
        {
          "output_type": "stream",
          "name": "stdout",
          "text": [
            "Count of full addresses is:  8981\n"
          ]
        }
      ]
    }
  ]
}